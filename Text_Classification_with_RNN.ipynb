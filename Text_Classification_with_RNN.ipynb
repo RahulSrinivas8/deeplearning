{
  "nbformat": 4,
  "nbformat_minor": 0,
  "metadata": {
    "colab": {
      "name": "Text_Classification_with_RNN.ipynb",
      "provenance": [],
      "collapsed_sections": [],
      "authorship_tag": "ABX9TyOm9gjaaXY71x0DMoqdMCEp",
      "include_colab_link": true
    },
    "kernelspec": {
      "name": "python3",
      "display_name": "Python 3"
    },
    "language_info": {
      "name": "python"
    },
    "accelerator": "GPU"
  },
  "cells": [
    {
      "cell_type": "markdown",
      "metadata": {
        "id": "view-in-github",
        "colab_type": "text"
      },
      "source": [
        "<a href=\"https://colab.research.google.com/github/RahulSrinivas8/deeplearning/blob/main/Text_Classification_with_RNN.ipynb\" target=\"_parent\"><img src=\"https://colab.research.google.com/assets/colab-badge.svg\" alt=\"Open In Colab\"/></a>"
      ]
    },
    {
      "cell_type": "markdown",
      "metadata": {
        "id": "3KqboF94CHC_"
      },
      "source": [
        "# Setup"
      ]
    },
    {
      "cell_type": "code",
      "metadata": {
        "id": "l7b8pg9dCMT2"
      },
      "source": [
        "import numpy as np\n",
        "\n",
        "import tensorflow_datasets as tfds\n",
        "import tensorflow as tf\n",
        "\n",
        "tfds.disable_progress_bar()\n",
        "import matplotlib.pyplot as plt"
      ],
      "execution_count": null,
      "outputs": []
    },
    {
      "cell_type": "markdown",
      "metadata": {
        "id": "Yu3EFh2qDLjB"
      },
      "source": [
        "# Setup input pipeline"
      ]
    },
    {
      "cell_type": "markdown",
      "metadata": {
        "id": "7zhlWdTmDhyd"
      },
      "source": [
        "The IMDB large movie review dataset is a binary classification dataset, all the reviews have either a positive or negative sentiment.\n",
        "\n",
        "Download the dataset using TFDS."
      ]
    },
    {
      "cell_type": "code",
      "metadata": {
        "colab": {
          "base_uri": "https://localhost:8080/"
        },
        "id": "LVnW5_OxDTva",
        "outputId": "badfd395-20fd-4d36-b519-2bbcb3cd9e0b"
      },
      "source": [
        "dataset, info = tfds.load('imdb_reviews', with_info=True, as_supervised=True)\n",
        "train_dataset, test_dataset = dataset['train'], dataset['test']\n",
        "\n",
        "train_dataset.element_spec"
      ],
      "execution_count": null,
      "outputs": [
        {
          "output_type": "stream",
          "name": "stdout",
          "text": [
            "\u001b[1mDownloading and preparing dataset imdb_reviews/plain_text/1.0.0 (download: 80.23 MiB, generated: Unknown size, total: 80.23 MiB) to /root/tensorflow_datasets/imdb_reviews/plain_text/1.0.0...\u001b[0m\n",
            "Shuffling and writing examples to /root/tensorflow_datasets/imdb_reviews/plain_text/1.0.0.incomplete7144L4/imdb_reviews-train.tfrecord\n",
            "Shuffling and writing examples to /root/tensorflow_datasets/imdb_reviews/plain_text/1.0.0.incomplete7144L4/imdb_reviews-test.tfrecord\n",
            "Shuffling and writing examples to /root/tensorflow_datasets/imdb_reviews/plain_text/1.0.0.incomplete7144L4/imdb_reviews-unsupervised.tfrecord\n"
          ]
        },
        {
          "output_type": "stream",
          "name": "stderr",
          "text": [
            "WARNING:absl:Dataset is using deprecated text encoder API which will be removed soon. Please use the plain_text version of the dataset and migrate to `tensorflow_text`.\n"
          ]
        },
        {
          "output_type": "stream",
          "name": "stdout",
          "text": [
            "\u001b[1mDataset imdb_reviews downloaded and prepared to /root/tensorflow_datasets/imdb_reviews/plain_text/1.0.0. Subsequent calls will reuse this data.\u001b[0m\n"
          ]
        },
        {
          "output_type": "execute_result",
          "data": {
            "text/plain": [
              "(TensorSpec(shape=(), dtype=tf.string, name=None),\n",
              " TensorSpec(shape=(), dtype=tf.int64, name=None))"
            ]
          },
          "metadata": {},
          "execution_count": 2
        }
      ]
    },
    {
      "cell_type": "markdown",
      "metadata": {
        "id": "-wY7rhoKEwDj"
      },
      "source": [
        "intially this returns a dataset of (text, label pairs):"
      ]
    },
    {
      "cell_type": "code",
      "metadata": {
        "colab": {
          "base_uri": "https://localhost:8080/"
        },
        "id": "KIYutIvjEtLI",
        "outputId": "3b96e391-77b7-44f1-a533-0cb0d16cae76"
      },
      "source": [
        "for example, label in train_dataset.take(1):\n",
        "  print('text: ',example.numpy())\n",
        "  print('label: ', label.numpy())"
      ],
      "execution_count": null,
      "outputs": [
        {
          "output_type": "stream",
          "name": "stdout",
          "text": [
            "text:  b\"This was an absolutely terrible movie. Don't be lured in by Christopher Walken or Michael Ironside. Both are great actors, but this must simply be their worst role in history. Even their great acting could not redeem this movie's ridiculous storyline. This movie is an early nineties US propaganda piece. The most pathetic scenes were those when the Columbian rebels were making their cases for revolutions. Maria Conchita Alonso appeared phony, and her pseudo-love affair with Walken was nothing but a pathetic emotional plug in a movie that was devoid of any real meaning. I am disappointed that there are movies like this, ruining actor's like Christopher Walken's good name. I could barely sit through it.\"\n",
            "label:  0\n"
          ]
        }
      ]
    },
    {
      "cell_type": "markdown",
      "metadata": {
        "id": "zznZAmDMGKJ5"
      },
      "source": [
        "Next shuffle the data for training and create batches of these (text, label) pairs:"
      ]
    },
    {
      "cell_type": "code",
      "metadata": {
        "id": "HIsRIqd2GHHf"
      },
      "source": [
        "BUFFER_SIZE = 10000\n",
        "BATCH_SIZE = 64"
      ],
      "execution_count": null,
      "outputs": []
    },
    {
      "cell_type": "code",
      "metadata": {
        "id": "5TLzDjiLGswF"
      },
      "source": [
        "train_dataset = train_dataset.shuffle(BUFFER_SIZE).batch(BATCH_SIZE).prefetch(tf.data.AUTOTUNE)"
      ],
      "execution_count": null,
      "outputs": []
    },
    {
      "cell_type": "code",
      "metadata": {
        "id": "sNGWF9aHHVOJ"
      },
      "source": [
        "test_dataset = test_dataset.batch(BATCH_SIZE).prefetch(tf.data.AUTOTUNE)"
      ],
      "execution_count": null,
      "outputs": []
    },
    {
      "cell_type": "code",
      "metadata": {
        "colab": {
          "base_uri": "https://localhost:8080/"
        },
        "id": "eBtpCS7tHl1R",
        "outputId": "228393d2-10e6-47fd-a37e-818e9fa7127b"
      },
      "source": [
        "for example, label in train_dataset.take(1):\n",
        "  print('text: ', example.numpy()[:3])\n",
        "  print()\n",
        "  print('labels: ', label.numpy()[:3])"
      ],
      "execution_count": null,
      "outputs": [
        {
          "output_type": "stream",
          "name": "stdout",
          "text": [
            "text:  [b\"Let me make one thing clear\\xc2\\x85.for the most part, the mentality of those who run the show in Hollywood frankly p*sses me right off in general and even more specifically in relation to its treatment of much loved, iconic characters from the pages of comic books. Why? Well let's take a typical Hollywood executive board meeting scenario to illustrate shall we\\xc2\\x85..<br /><br />Executive no.1 'Hey there's lots of dollars to be gleaned from superhero flicks these days.' <br /><br />Executive no.2 'Good point, let's make one with haste then! \\xc2\\x96 We'll do a lucky dip in a hat and pick out a superhero at random to base a film upon!' (The dip takes place and a famous superheroes name is pulled out) <br /><br />Executive no.1 'Great! Now who can we get to play the part?' <br /><br />Executive no.2 'Who's a big box office star at the moment?' <br /><br />Executive no.1 '*name of big actor* is the in thing this week.' <br /><br />Executive no.2 'But does he really suit the role? I mean he doesn't resemble the character whatsoever.' <br /><br />Executive no.1 'Who cares?! He's a big name; We'll make the film with him in it anyway.' <br /><br />Executive no.2 'You're quite right! And besides we'll fill the entire film so chock full of glitzy special effects to appease the moronic masses that no one will ever question it anyway!'<br /><br />The above scenario clearly illustrates one of the reasons I generally loath most modern superhero movies. All style, no substance and simply pathetic casting of the iconic leads. Of course to be equitable, there are exceptions to the above rule; when Hollywood does get it right \\xc2\\x96 take the casting of the original (and still easily the best!) Superman; Christopher Reeve and more recently Patrick Stewart and Sir Ian McKellen in the X-Men films.<br /><br />But back to the general negative traits displayed by Hollywood today\\xc2\\x85..wouldn't it be wonderful if our studio executives were to ALWAYS choose actors who actually suited the roles? Well in this less than ideal world, one filmmaker does just this believe it or not, by casting actors based upon their genuine resemblance to their comic book counterparts. His name is Sandy Collora. Sadly (but typically) Hollywood has not as of yet allowed Collora to direct a full length film but luckily for us, he has given us tantalizing glimpses of what the finished outcome would likely look like in the form of two (as of yet) famous super hero short features. One is the superb Batman:Dead End and the other is this mock trailer for an entirely fictitious film called Worlds Finest.<br /><br />Well, let's not mince our words here \\xc2\\x96 this is absolutely awesome stuff!<br /><br />The casting of Mr. Universe winner and male model Michael O'Hearn, (who looked similarly awesome but was utterly wasted in the lackluster Barbarian) makes for the most perfect choice to play the iconic man of steel. In fact, in terms of physical resemblance, there has undoubtedly never been a closer approximation to the comic character.<br /><br />Added to this Clark Bartram is back fresh from his splendid portrayal as the Dark Knight in Batman:Dead End; Again, yet another hugely judicious piece of casting!<br /><br />What can I say? \\xc2\\x96 If only this was indeed a real, full length film! Hollywood studio executives \\xc2\\x96 take note! THIS is how it should be done!<br /><br />As a final note, I am once again intrigued by the vastly split reactions this short film has evoked from fans. Tellingly, the most acerbic and vehemently adverse reactions against it clearly come once more (as similarly with Batman: Dead End) from a younger, less cinematically experienced audience; a fact betrayed by their somewhat grammatically primitive rants and liberal usage of base diction. Such an unfortunate state of closed mindedness is indeed a sad phenomenon albeit one that our aforementioned studio executives in Hollywood, will no doubt derive great satisfaction from. After all, these very same misguided individuals are in all probability the exact same sort of CGI addicted, popcorn stuffing imbeciles that revel in the majority of crap that Hollywood churns out by the deluge these days.\"\n",
            " b'okay, this movie f*ck in\\' rules. it is without question one of the most technically inept pieces of cinema ever made. absolutely terrible, but you GOTTA see it. rent this with your buddies and come up with a drinking game or just have fun, it\\'s hilarious. and the behind-the-scenes featurette proves it, you can do anything with paper plates and finger paint. awesome. okay, rent it just for this one scene: two characters are actually WALKING IN PLACE for about 3 minutes in a shot. the director (on the commentary) says \"yeah, the tracking was so smooth it looks like they\\'re...\". yeah, right man, they are totally walking in place. it\\'s so funny.'\n",
            " b'talk about your waste of money.. im just wondering why Michael would star in such a turkey of a movie..Michael is a Great actor especially in the movie where he plays a man dying of cancer.. that was wonderful. as he tapes himself for his son to see it once he grows up .. Michael is such a talented actor.. so what made him do this one??? i watched it and thought it was really dumb.. i guess at one time in their career they have the crappy movies .. especially \"The Squeeze\" i didnt understand that one At all, and i feel his best performance was in \"Pacific Heights\" , his character really creeped me out.. and i really enjoyed \"Multiplicity\". .that one was so Hilarious !!! and he was just Perfect for the role of \"Batman\" .. and i kind of liked \"Night Shift\" and i love \"Johnny Dangerously\" too .. just too bad some of them end up doing lousy movies .. like this one was...']\n",
            "\n",
            "labels:  [1 0 0]\n"
          ]
        }
      ]
    },
    {
      "cell_type": "markdown",
      "metadata": {
        "id": "2Eq9TnfQIS2p"
      },
      "source": [
        "# Create the text encoder"
      ]
    },
    {
      "cell_type": "markdown",
      "metadata": {
        "id": "JWGB0carIaS0"
      },
      "source": [
        "The raw text loaded by tfds needs to be processed before it can be used in a model. The simplest way to process text for training is using the TextVectorization layer. This layer has many capabilities, but this tutorial sticks to the default behavior.\n",
        "\n",
        "Create the layer, and pass the dataset's text to the layer's .adapt method:"
      ]
    },
    {
      "cell_type": "code",
      "metadata": {
        "id": "ZJ4TJLh1IZKl"
      },
      "source": [
        "VOCAB_SIZE = 1000\n",
        "encoder = tf.keras.layers.TextVectorization(\n",
        "    max_tokens=VOCAB_SIZE)\n",
        "encoder.adapt(train_dataset.map(lambda text, label: text))"
      ],
      "execution_count": null,
      "outputs": []
    },
    {
      "cell_type": "markdown",
      "metadata": {
        "id": "OCl8AS93Ji1O"
      },
      "source": [
        "The .adapt method sets the layer's vocabulary. Here are the first 20 tokens. After the padding and unknown tokens they're sorted by frequency:"
      ]
    },
    {
      "cell_type": "code",
      "metadata": {
        "colab": {
          "base_uri": "https://localhost:8080/"
        },
        "id": "-VwlNvRIJhqz",
        "outputId": "c2462f5e-6ebd-4154-c146-a1c4a257c654"
      },
      "source": [
        "vocab = np.array(encoder.get_vocabulary())\n",
        "vocab[:20]"
      ],
      "execution_count": null,
      "outputs": [
        {
          "output_type": "execute_result",
          "data": {
            "text/plain": [
              "array(['', '[UNK]', 'the', 'and', 'a', 'of', 'to', 'is', 'in', 'it', 'i',\n",
              "       'this', 'that', 'br', 'was', 'as', 'for', 'with', 'movie', 'but'],\n",
              "      dtype='<U14')"
            ]
          },
          "metadata": {},
          "execution_count": 9
        }
      ]
    },
    {
      "cell_type": "markdown",
      "metadata": {
        "id": "cEmIvs-yKB9w"
      },
      "source": [
        "Once the vocabulary is set, the layer can encode text into indices. The tensors of indices are 0-padded to the longest sequence in the batch (unless you set a fixed output_sequence_length):"
      ]
    },
    {
      "cell_type": "code",
      "metadata": {
        "colab": {
          "base_uri": "https://localhost:8080/"
        },
        "id": "sIJq3SG6J8ko",
        "outputId": "84784748-b2be-4e44-849f-a5584502fa40"
      },
      "source": [
        "encoded_example = encoder(example)[:3].numpy()\n",
        "encoded_example"
      ],
      "execution_count": null,
      "outputs": [
        {
          "output_type": "execute_result",
          "data": {
            "text/plain": [
              "array([[372,  70,  94, ...,   0,   0,   0],\n",
              "       [869,  11,  18, ...,   0,   0,   0],\n",
              "       [727,  43, 123, ...,   0,   0,   0]])"
            ]
          },
          "metadata": {},
          "execution_count": 10
        }
      ]
    },
    {
      "cell_type": "markdown",
      "metadata": {
        "id": "VlVhxzf8Ke5c"
      },
      "source": [
        "With the default settings, the process is not completely reversible. There are three main reasons for that:\n",
        "\n",
        "* The default value for preprocessing.TextVectorization's standardize argument is \"lower_and_strip_punctuation\".\n",
        "* The limited vocabulary size and lack of character-based fallback results in some unknown tokens."
      ]
    },
    {
      "cell_type": "code",
      "metadata": {
        "colab": {
          "base_uri": "https://localhost:8080/"
        },
        "id": "fOloOPp0KatM",
        "outputId": "799500f1-9c73-4cac-a74c-0b59bfd038f8"
      },
      "source": [
        "\n",
        "for n in range(3):\n",
        "  print(\"Original: \", example[n].numpy())\n",
        "  print(\"Round-trip: \", \" \".join(vocab[encoded_example[n]]))\n",
        "  print()"
      ],
      "execution_count": null,
      "outputs": [
        {
          "output_type": "stream",
          "name": "stdout",
          "text": [
            "Original:  b\"Let me make one thing clear\\xc2\\x85.for the most part, the mentality of those who run the show in Hollywood frankly p*sses me right off in general and even more specifically in relation to its treatment of much loved, iconic characters from the pages of comic books. Why? Well let's take a typical Hollywood executive board meeting scenario to illustrate shall we\\xc2\\x85..<br /><br />Executive no.1 'Hey there's lots of dollars to be gleaned from superhero flicks these days.' <br /><br />Executive no.2 'Good point, let's make one with haste then! \\xc2\\x96 We'll do a lucky dip in a hat and pick out a superhero at random to base a film upon!' (The dip takes place and a famous superheroes name is pulled out) <br /><br />Executive no.1 'Great! Now who can we get to play the part?' <br /><br />Executive no.2 'Who's a big box office star at the moment?' <br /><br />Executive no.1 '*name of big actor* is the in thing this week.' <br /><br />Executive no.2 'But does he really suit the role? I mean he doesn't resemble the character whatsoever.' <br /><br />Executive no.1 'Who cares?! He's a big name; We'll make the film with him in it anyway.' <br /><br />Executive no.2 'You're quite right! And besides we'll fill the entire film so chock full of glitzy special effects to appease the moronic masses that no one will ever question it anyway!'<br /><br />The above scenario clearly illustrates one of the reasons I generally loath most modern superhero movies. All style, no substance and simply pathetic casting of the iconic leads. Of course to be equitable, there are exceptions to the above rule; when Hollywood does get it right \\xc2\\x96 take the casting of the original (and still easily the best!) Superman; Christopher Reeve and more recently Patrick Stewart and Sir Ian McKellen in the X-Men films.<br /><br />But back to the general negative traits displayed by Hollywood today\\xc2\\x85..wouldn't it be wonderful if our studio executives were to ALWAYS choose actors who actually suited the roles? Well in this less than ideal world, one filmmaker does just this believe it or not, by casting actors based upon their genuine resemblance to their comic book counterparts. His name is Sandy Collora. Sadly (but typically) Hollywood has not as of yet allowed Collora to direct a full length film but luckily for us, he has given us tantalizing glimpses of what the finished outcome would likely look like in the form of two (as of yet) famous super hero short features. One is the superb Batman:Dead End and the other is this mock trailer for an entirely fictitious film called Worlds Finest.<br /><br />Well, let's not mince our words here \\xc2\\x96 this is absolutely awesome stuff!<br /><br />The casting of Mr. Universe winner and male model Michael O'Hearn, (who looked similarly awesome but was utterly wasted in the lackluster Barbarian) makes for the most perfect choice to play the iconic man of steel. In fact, in terms of physical resemblance, there has undoubtedly never been a closer approximation to the comic character.<br /><br />Added to this Clark Bartram is back fresh from his splendid portrayal as the Dark Knight in Batman:Dead End; Again, yet another hugely judicious piece of casting!<br /><br />What can I say? \\xc2\\x96 If only this was indeed a real, full length film! Hollywood studio executives \\xc2\\x96 take note! THIS is how it should be done!<br /><br />As a final note, I am once again intrigued by the vastly split reactions this short film has evoked from fans. Tellingly, the most acerbic and vehemently adverse reactions against it clearly come once more (as similarly with Batman: Dead End) from a younger, less cinematically experienced audience; a fact betrayed by their somewhat grammatically primitive rants and liberal usage of base diction. Such an unfortunate state of closed mindedness is indeed a sad phenomenon albeit one that our aforementioned studio executives in Hollywood, will no doubt derive great satisfaction from. After all, these very same misguided individuals are in all probability the exact same sort of CGI addicted, popcorn stuffing imbeciles that revel in the majority of crap that Hollywood churns out by the deluge these days.\"\n",
            "Round-trip:  let me make one thing [UNK] the most part the [UNK] of those who run the show in hollywood [UNK] [UNK] me right off in general and even more [UNK] in [UNK] to its [UNK] of much loved [UNK] characters from the [UNK] of comic [UNK] why well lets take a typical hollywood [UNK] [UNK] [UNK] [UNK] to [UNK] [UNK] [UNK] br [UNK] [UNK] [UNK] theres lots of [UNK] to be [UNK] from [UNK] [UNK] these days br br [UNK] [UNK] good point lets make one with [UNK] then  well do a [UNK] [UNK] in a [UNK] and [UNK] out a [UNK] at [UNK] to [UNK] a film upon the [UNK] takes place and a famous [UNK] name is [UNK] out br br [UNK] [UNK] great now who can we get to play the part br br [UNK] [UNK] whos a big [UNK] [UNK] star at the moment br br [UNK] [UNK] name of big actor is the in thing this [UNK] br br [UNK] [UNK] but does he really [UNK] the role i mean he doesnt [UNK] the character [UNK] br br [UNK] [UNK] who [UNK] hes a big name well make the film with him in it anyway br br [UNK] [UNK] youre quite right and [UNK] well [UNK] the entire film so [UNK] full of [UNK] special effects to [UNK] the [UNK] [UNK] that no one will ever question it [UNK] br the above [UNK] clearly [UNK] one of the [UNK] i [UNK] [UNK] most modern [UNK] movies all style no [UNK] and simply [UNK] casting of the [UNK] leads of course to be [UNK] there are [UNK] to the above [UNK] when hollywood does get it right  take the casting of the original and still easily the best [UNK] [UNK] [UNK] and more [UNK] [UNK] [UNK] and [UNK] [UNK] [UNK] in the [UNK] [UNK] br but back to the general [UNK] [UNK] [UNK] by hollywood [UNK] it be wonderful if our [UNK] [UNK] were to always [UNK] actors who actually [UNK] the roles well in this less than [UNK] world one [UNK] does just this believe it or not by casting actors based upon their [UNK] [UNK] to their comic book [UNK] his name is [UNK] [UNK] [UNK] but [UNK] hollywood has not as of yet [UNK] [UNK] to [UNK] a full [UNK] film but [UNK] for us he has given us [UNK] [UNK] of what the [UNK] [UNK] would [UNK] look like in the form of two as of yet famous [UNK] hero short features one is the superb [UNK] end and the other is this [UNK] [UNK] for an [UNK] [UNK] film called [UNK] [UNK] br well lets not [UNK] our words here  this is absolutely [UNK] [UNK] br the casting of mr [UNK] [UNK] and male [UNK] michael [UNK] who looked [UNK] [UNK] but was [UNK] [UNK] in the [UNK] [UNK] makes for the most perfect [UNK] to play the [UNK] man of [UNK] in fact in [UNK] of [UNK] [UNK] there has [UNK] never been a [UNK] [UNK] to the comic [UNK] br [UNK] to this [UNK] [UNK] is back [UNK] from his [UNK] [UNK] as the dark [UNK] in [UNK] end again yet another [UNK] [UNK] piece of [UNK] br what can i say  if only this was indeed a real full [UNK] film hollywood [UNK] [UNK]  take note this is how it should be [UNK] br as a final note i am once again [UNK] by the [UNK] [UNK] [UNK] this short film has [UNK] from fans [UNK] the most [UNK] and [UNK] [UNK] [UNK] against it clearly come once more as [UNK] with [UNK] dead end from a [UNK] less [UNK] [UNK] audience a fact [UNK] by their somewhat [UNK] [UNK] [UNK] and [UNK] [UNK] of [UNK] [UNK] such an [UNK] [UNK] of [UNK] [UNK] is indeed a sad [UNK] [UNK] one that our [UNK] [UNK] [UNK] in hollywood will no doubt [UNK] great [UNK] from after all these very same [UNK] [UNK] are in all [UNK] the [UNK] same sort of [UNK] [UNK] [UNK] [UNK] [UNK] that [UNK] in the [UNK] of crap that hollywood [UNK] out by the [UNK] these days                                                                                                                                                                                                                                                                                                                                                                                      \n",
            "\n",
            "Original:  b'okay, this movie f*ck in\\' rules. it is without question one of the most technically inept pieces of cinema ever made. absolutely terrible, but you GOTTA see it. rent this with your buddies and come up with a drinking game or just have fun, it\\'s hilarious. and the behind-the-scenes featurette proves it, you can do anything with paper plates and finger paint. awesome. okay, rent it just for this one scene: two characters are actually WALKING IN PLACE for about 3 minutes in a shot. the director (on the commentary) says \"yeah, the tracking was so smooth it looks like they\\'re...\". yeah, right man, they are totally walking in place. it\\'s so funny.'\n",
            "Round-trip:  okay this movie [UNK] in [UNK] it is without question one of the most [UNK] [UNK] [UNK] of cinema ever made absolutely terrible but you [UNK] see it rent this with your [UNK] and come up with a [UNK] game or just have fun its hilarious and the [UNK] [UNK] [UNK] it you can do anything with [UNK] [UNK] and [UNK] [UNK] [UNK] okay rent it just for this one scene two characters are actually [UNK] in place for about 3 minutes in a shot the director on the [UNK] says [UNK] the [UNK] was so [UNK] it looks like theyre [UNK] right man they are totally [UNK] in place its so funny                                                                                                                                                                                                                                                                                                                                                                                                                                                                                                                                                                                                                                                                                                                                                                                                                                                                                                                                                                                                \n",
            "\n",
            "Original:  b'talk about your waste of money.. im just wondering why Michael would star in such a turkey of a movie..Michael is a Great actor especially in the movie where he plays a man dying of cancer.. that was wonderful. as he tapes himself for his son to see it once he grows up .. Michael is such a talented actor.. so what made him do this one??? i watched it and thought it was really dumb.. i guess at one time in their career they have the crappy movies .. especially \"The Squeeze\" i didnt understand that one At all, and i feel his best performance was in \"Pacific Heights\" , his character really creeped me out.. and i really enjoyed \"Multiplicity\". .that one was so Hilarious !!! and he was just Perfect for the role of \"Batman\" .. and i kind of liked \"Night Shift\" and i love \"Johnny Dangerously\" too .. just too bad some of them end up doing lousy movies .. like this one was...'\n",
            "Round-trip:  talk about your waste of money im just [UNK] why michael would star in such a [UNK] of a [UNK] is a great actor especially in the movie where he plays a man [UNK] of [UNK] that was wonderful as he [UNK] himself for his son to see it once he [UNK] up michael is such a [UNK] actor so what made him do this one i watched it and thought it was really dumb i guess at one time in their career they have the [UNK] movies especially the [UNK] i didnt understand that one at all and i feel his best performance was in [UNK] [UNK] his character really [UNK] me out and i really enjoyed [UNK] that one was so hilarious and he was just perfect for the role of [UNK] and i kind of liked night [UNK] and i love [UNK] [UNK] too just too bad some of them end up doing [UNK] movies like this one was                                                                                                                                                                                                                                                                                                                                                                                                                                                                                                                                                                                                                                                                                                                                                                                                                                                                                                                                               \n",
            "\n"
          ]
        }
      ]
    },
    {
      "cell_type": "markdown",
      "metadata": {
        "id": "IY8xlK7TKvWT"
      },
      "source": [
        "# Create the model"
      ]
    },
    {
      "cell_type": "code",
      "metadata": {
        "id": "azdsq4CiLQYO"
      },
      "source": [
        "model = tf.keras.Sequential([\n",
        "    encoder,\n",
        "    tf.keras.layers.Embedding(\n",
        "        input_dim=len(encoder.get_vocabulary()),\n",
        "        output_dim=64,\n",
        "        # Use masking to handle the variable sequence lengths\n",
        "        mask_zero=True),\n",
        "    tf.keras.layers.Bidirectional(tf.keras.layers.LSTM(64)),\n",
        "    tf.keras.layers.Dense(64, activation='relu'),\n",
        "    tf.keras.layers.Dense(1)\n",
        "])"
      ],
      "execution_count": null,
      "outputs": []
    },
    {
      "cell_type": "markdown",
      "metadata": {
        "id": "8_WfvXRPLhnd"
      },
      "source": [
        "Please note that Keras sequential model is used here since all the layers in the model only have single input and produce single output."
      ]
    },
    {
      "cell_type": "markdown",
      "metadata": {
        "id": "X8NFdu85Lo9x"
      },
      "source": [
        "The embedding layer uses masking to handle the varying sequence-lengths. All the layers after the Embedding support masking:"
      ]
    },
    {
      "cell_type": "code",
      "metadata": {
        "colab": {
          "base_uri": "https://localhost:8080/"
        },
        "id": "U7h7pcKmLXR6",
        "outputId": "8d85c7f2-60eb-42f9-f16f-4ae862ca099f"
      },
      "source": [
        "print([layer.supports_masking for layer in model.layers])"
      ],
      "execution_count": null,
      "outputs": [
        {
          "output_type": "stream",
          "name": "stdout",
          "text": [
            "[False, True, True, True, True]\n"
          ]
        }
      ]
    },
    {
      "cell_type": "markdown",
      "metadata": {
        "id": "ahvfV7nULzqZ"
      },
      "source": [
        "To confirm that this works as expected, evaluate a sentence twice. First, alone so there's no padding to mask:"
      ]
    },
    {
      "cell_type": "code",
      "metadata": {
        "colab": {
          "base_uri": "https://localhost:8080/"
        },
        "id": "o7HPLN7iLv9Q",
        "outputId": "2c99c60f-5d29-4ac5-b2ea-424a7d51f5a8"
      },
      "source": [
        "# predict on a sample text without padding.\n",
        "\n",
        "sample_text = ('The movie was cool. The animation and the graphics '\n",
        "               'were out of this world. I would recommend this movie.')\n",
        "predictions = model.predict(np.array([sample_text]))\n",
        "print(predictions[0])"
      ],
      "execution_count": null,
      "outputs": [
        {
          "output_type": "stream",
          "name": "stdout",
          "text": [
            "[0.0026309]\n"
          ]
        }
      ]
    },
    {
      "cell_type": "markdown",
      "metadata": {
        "id": "8IHD5B3jL_p2"
      },
      "source": [
        "Now, evaluate it again in a batch with a longer sentence. The result should be identical:"
      ]
    },
    {
      "cell_type": "code",
      "metadata": {
        "colab": {
          "base_uri": "https://localhost:8080/"
        },
        "id": "O0556_9zMF1Z",
        "outputId": "575b578d-9c38-4fa4-ea6b-29aca79f02d8"
      },
      "source": [
        "# predict on a sample text with padding\n",
        "\n",
        "padding = \"the \" * 2000\n",
        "predictions = model.predict(np.array([sample_text, padding]))\n",
        "print(predictions[0])"
      ],
      "execution_count": null,
      "outputs": [
        {
          "output_type": "stream",
          "name": "stdout",
          "text": [
            "[0.0026309]\n"
          ]
        }
      ]
    },
    {
      "cell_type": "markdown",
      "metadata": {
        "id": "P7oLouOmMFc1"
      },
      "source": [
        "Compile the Keras model to configure the training process:"
      ]
    },
    {
      "cell_type": "code",
      "metadata": {
        "id": "BNwzcDBmMLkU"
      },
      "source": [
        "model.compile(loss=tf.keras.losses.BinaryCrossentropy(from_logits=True),\n",
        "              optimizer=tf.keras.optimizers.Adam(1e-4),\n",
        "              metrics=['accuracy'])"
      ],
      "execution_count": null,
      "outputs": []
    },
    {
      "cell_type": "markdown",
      "metadata": {
        "id": "ahL1jkWnMYqB"
      },
      "source": [
        "# Train the model"
      ]
    },
    {
      "cell_type": "code",
      "metadata": {
        "colab": {
          "base_uri": "https://localhost:8080/"
        },
        "id": "s8KihH0GMdue",
        "outputId": "11f4e072-4ec5-4a05-a0c8-9d7541003275"
      },
      "source": [
        "history = model.fit(train_dataset, epochs=10,\n",
        "                    validation_data=test_dataset,\n",
        "                    validation_steps=30)"
      ],
      "execution_count": null,
      "outputs": [
        {
          "output_type": "stream",
          "name": "stdout",
          "text": [
            "Epoch 1/10\n",
            "391/391 [==============================] - 108s 251ms/step - loss: 0.6343 - accuracy: 0.5762 - val_loss: 0.5507 - val_accuracy: 0.6469\n",
            "Epoch 2/10\n",
            "391/391 [==============================] - 94s 237ms/step - loss: 0.4410 - accuracy: 0.8001 - val_loss: 0.4484 - val_accuracy: 0.8297\n",
            "Epoch 3/10\n",
            "391/391 [==============================] - 94s 237ms/step - loss: 0.3618 - accuracy: 0.8415 - val_loss: 0.3552 - val_accuracy: 0.8396\n",
            "Epoch 4/10\n",
            "391/391 [==============================] - 94s 237ms/step - loss: 0.3330 - accuracy: 0.8569 - val_loss: 0.3413 - val_accuracy: 0.8484\n",
            "Epoch 5/10\n",
            "391/391 [==============================] - 95s 240ms/step - loss: 0.3153 - accuracy: 0.8654 - val_loss: 0.3301 - val_accuracy: 0.8562\n",
            "Epoch 6/10\n",
            "391/391 [==============================] - 93s 236ms/step - loss: 0.3094 - accuracy: 0.8691 - val_loss: 0.3440 - val_accuracy: 0.8359\n",
            "Epoch 7/10\n",
            "391/391 [==============================] - 96s 242ms/step - loss: 0.3050 - accuracy: 0.8711 - val_loss: 0.3341 - val_accuracy: 0.8599\n",
            "Epoch 8/10\n",
            "391/391 [==============================] - 93s 235ms/step - loss: 0.3017 - accuracy: 0.8722 - val_loss: 0.3264 - val_accuracy: 0.8458\n",
            "Epoch 9/10\n",
            "391/391 [==============================] - 96s 243ms/step - loss: 0.2982 - accuracy: 0.8748 - val_loss: 0.3318 - val_accuracy: 0.8526\n",
            "Epoch 10/10\n",
            "391/391 [==============================] - 93s 236ms/step - loss: 0.2981 - accuracy: 0.8747 - val_loss: 0.3201 - val_accuracy: 0.8609\n"
          ]
        }
      ]
    },
    {
      "cell_type": "code",
      "metadata": {
        "id": "ky2B39GyMg7w",
        "colab": {
          "base_uri": "https://localhost:8080/"
        },
        "outputId": "bef3a949-6bc6-40f9-ca24-293db3504f29"
      },
      "source": [
        "test_loss, test_acc = model.evaluate(test_dataset)\n",
        "\n",
        "print('Test Loss:', test_loss)\n",
        "print('Test Accuracy:', test_acc)"
      ],
      "execution_count": null,
      "outputs": [
        {
          "output_type": "stream",
          "name": "stdout",
          "text": [
            "391/391 [==============================] - 49s 126ms/step - loss: 0.3139 - accuracy: 0.8608\n",
            "Test Loss: 0.31387951970100403\n",
            "Test Accuracy: 0.860759973526001\n"
          ]
        }
      ]
    },
    {
      "cell_type": "code",
      "metadata": {
        "id": "qGZYGFKuMn8D"
      },
      "source": [
        "def plot_graphs(history, metric):\n",
        "  plt.plot(history.history[metric])\n",
        "  plt.plot(history.history['val_'+metric], '')\n",
        "  plt.xlabel(\"Epochs\")\n",
        "  plt.ylabel(metric)\n",
        "  plt.legend([metric, 'val_'+metric])"
      ],
      "execution_count": null,
      "outputs": []
    },
    {
      "cell_type": "code",
      "metadata": {
        "id": "lYrFU0ZlMyZQ",
        "colab": {
          "base_uri": "https://localhost:8080/",
          "height": 518
        },
        "outputId": "307fb231-ce61-4e38-8835-b96ae3497088"
      },
      "source": [
        "plt.figure(figsize=(16, 8))\n",
        "plt.subplot(1, 2, 1)\n",
        "plot_graphs(history, 'accuracy')\n",
        "plt.ylim(None, 1)\n",
        "plt.subplot(1, 2, 2)\n",
        "plot_graphs(history, 'loss')\n",
        "plt.ylim(0, None)"
      ],
      "execution_count": null,
      "outputs": [
        {
          "output_type": "execute_result",
          "data": {
            "text/plain": [
              "(0.0, 0.651145938038826)"
            ]
          },
          "metadata": {},
          "execution_count": 20
        },
        {
          "output_type": "display_data",
          "data": {
            "image/png": "[encoded data removed]",
            "text/plain": [
              "<Figure size 1152x576 with 2 Axes>"
            ]
          },
          "metadata": {
            "needs_background": "light"
          }
        }
      ]
    },
    {
      "cell_type": "markdown",
      "metadata": {
        "id": "yxIc8m0RNAkj"
      },
      "source": [
        "Run a prediction on a new sentence:\n",
        "\n",
        "If the prediction is >= 0.0, it is positive else it is negative."
      ]
    },
    {
      "cell_type": "code",
      "metadata": {
        "id": "5FpHD7NFM5eg",
        "colab": {
          "base_uri": "https://localhost:8080/"
        },
        "outputId": "41ab2bbc-d107-4144-9c44-15b2f3db99bc"
      },
      "source": [
        "sample_text = ('The movie was cool. The animation and the graphics '\n",
        "               'were out of this world. I would recommend this movie.')\n",
        "predictions = model.predict(np.array([sample_text]))\n",
        "print(predictions)"
      ],
      "execution_count": null,
      "outputs": [
        {
          "output_type": "stream",
          "name": "stdout",
          "text": [
            "[[0.791841]]\n"
          ]
        }
      ]
    }
  ]
}